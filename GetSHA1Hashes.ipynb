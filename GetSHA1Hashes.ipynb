{
 "cells": [
  {
   "cell_type": "code",
   "execution_count": 27,
   "metadata": {},
   "outputs": [],
   "source": [
    "from sha1 import sha1\n",
    "import os\n",
    "import sys\n"
   ]
  },
  {
   "cell_type": "code",
   "execution_count": 29,
   "metadata": {},
   "outputs": [],
   "source": [
    "List = os.listdir('./Files')\n",
    "sha_list = [sha1(i) for i in List ]\n"
   ]
  },
  {
   "cell_type": "code",
   "execution_count": 38,
   "metadata": {},
   "outputs": [
    {
     "name": "stdout",
     "output_type": "stream",
     "text": [
      "All elements are unique\n"
     ]
    }
   ],
   "source": [
    "# print len(sha_list)\n",
    "a = set(sha_list)\n",
    "if len(a) == len(sha_list):\n",
    "    print \"All elements are unique\"\n",
    "else:\n",
    "    print \"There is a repetition\"\n",
    "        "
   ]
  },
  {
   "cell_type": "code",
   "execution_count": 68,
   "metadata": {},
   "outputs": [
    {
     "name": "stdout",
     "output_type": "stream",
     "text": [
      "100\n",
      "31\n",
      "set([0L, 1L, 2L, 3L, 4L, 5L, 6L, 7L, 8L, 9L, 10L, 11L, 12L, 13L, 14L, 15L, 17L, 18L, 19L, 20L, 21L, 22L, 23L, 24L, 25L, 26L, 27L, 28L, 29L, 30L, 31L])\n"
     ]
    }
   ],
   "source": [
    "# now we have to convert it mbit value\n",
    "# # m for us is 32 bits hence we require 32/4 = 8 elements from the sha key\n",
    "# for i in sha_list:\n",
    "#     print len(i)\n",
    "#     print i,i[-2:]\n",
    "#     print int(i,16)%32\n",
    "    \n",
    "m_bit = [int(i,16)%32 for i in sha_list]\n",
    "print len(m_bit)\n",
    "print len(set(m_bit))\n",
    "print set(m_bit)"
   ]
  },
  {
   "cell_type": "code",
   "execution_count": 75,
   "metadata": {
    "collapsed": true
   },
   "outputs": [],
   "source": [
    "def getMbit(text,m=5):\n",
    "    hsh = sha1(text)\n",
    "    m_bit=int(hsh,16)%(2**m)\n",
    "    return int(m_bit)\n"
   ]
  },
  {
   "cell_type": "code",
   "execution_count": 80,
   "metadata": {},
   "outputs": [
    {
     "data": {
      "text/plain": [
       "17"
      ]
     },
     "execution_count": 80,
     "metadata": {},
     "output_type": "execute_result"
    }
   ],
   "source": []
  },
  {
   "cell_type": "code",
   "execution_count": null,
   "metadata": {
    "collapsed": true
   },
   "outputs": [],
   "source": []
  }
 ],
 "metadata": {
  "kernelspec": {
   "display_name": "Python 2",
   "language": "python",
   "name": "python2"
  },
  "language_info": {
   "codemirror_mode": {
    "name": "ipython",
    "version": 2
   },
   "file_extension": ".py",
   "mimetype": "text/x-python",
   "name": "python",
   "nbconvert_exporter": "python",
   "pygments_lexer": "ipython2",
   "version": "2.7.12"
  }
 },
 "nbformat": 4,
 "nbformat_minor": 2
}
