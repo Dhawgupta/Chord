{
 "cells": [
  {
   "cell_type": "code",
   "execution_count": 50,
   "metadata": {
    "collapsed": true
   },
   "outputs": [],
   "source": [
    "import os\n",
    "import random\n",
    "import string\n"
   ]
  },
  {
   "cell_type": "code",
   "execution_count": 52,
   "metadata": {},
   "outputs": [
    {
     "name": "stdout",
     "output_type": "stream",
     "text": [
      "CSGprCxEwM\n"
     ]
    }
   ],
   "source": [
    "# for i in range(100):\n",
    "#     print random.randint(7,10)\n",
    "size = random.randint(7,10)\n",
    "a= \"\" #empty name\n",
    "characters = string.digits + string.letters\n",
    "for i in range(size):\n",
    "    a+= random.choice(characters)\n",
    "print a"
   ]
  },
  {
   "cell_type": "code",
   "execution_count": 58,
   "metadata": {},
   "outputs": [
    {
     "name": "stdout",
     "output_type": "stream",
     "text": [
      "touch ./Files/jxjrioh2.txt\n",
      "touch ./Files/wpVmihSV1.txt\n",
      "touch ./Files/ZuHmlJ1YJ6.txt\n",
      "touch ./Files/xCyEiuF3y.txt\n",
      "touch ./Files/4iUPRqhET.txt\n",
      "touch ./Files/2KiS7gicg.txt\n",
      "touch ./Files/M0S49khH.txt\n",
      "touch ./Files/2rf8SAvae.txt\n",
      "touch ./Files/HcbpAyuniC.txt\n",
      "touch ./Files/0kymupDMg.txt\n",
      "touch ./Files/C77iD1j.txt\n",
      "touch ./Files/uY8DlwgTRe.txt\n",
      "touch ./Files/001I9XJ.txt\n",
      "touch ./Files/WpnAfnU.txt\n",
      "touch ./Files/mgUWaQGEYD.txt\n",
      "touch ./Files/gr3OCBERl5.txt\n",
      "touch ./Files/p7e0uM1.txt\n",
      "touch ./Files/nwUn8Gc.txt\n",
      "touch ./Files/lToNwZMSwn.txt\n",
      "touch ./Files/XE9xKgoTr.txt\n",
      "touch ./Files/OcYcuIpZ7.txt\n",
      "touch ./Files/BhdymwcOa.txt\n",
      "touch ./Files/MPsQ8oM.txt\n",
      "touch ./Files/ON91ZJBVpz.txt\n",
      "touch ./Files/rOSEUcaR.txt\n",
      "touch ./Files/ToVGxmTc.txt\n",
      "touch ./Files/1H1k1E7Yye.txt\n",
      "touch ./Files/2ckVq03rI4.txt\n",
      "touch ./Files/xhFpMtotNu.txt\n",
      "touch ./Files/6VzXQMbzc.txt\n",
      "touch ./Files/e8D9xOQJ9T.txt\n",
      "touch ./Files/Pc8Tb6EI.txt\n",
      "touch ./Files/TVOpmza.txt\n",
      "touch ./Files/vOgBagiP.txt\n",
      "touch ./Files/cu7DsyKR.txt\n",
      "touch ./Files/fO8TJqL.txt\n",
      "touch ./Files/LTE8rYYR.txt\n",
      "touch ./Files/AlIENBi.txt\n",
      "touch ./Files/C2n58zDkWI.txt\n",
      "touch ./Files/CbDghK0AGw.txt\n",
      "touch ./Files/NjgIHOhK.txt\n",
      "touch ./Files/MhB4IP1Cy.txt\n",
      "touch ./Files/DWGT7oO.txt\n",
      "touch ./Files/2v8bh89tM.txt\n",
      "touch ./Files/akjLtjT.txt\n",
      "touch ./Files/LlSDfeaa.txt\n",
      "touch ./Files/Rf0abI10n.txt\n",
      "touch ./Files/JDSGbAuTPT.txt\n",
      "touch ./Files/oBI9Kuv8O.txt\n",
      "touch ./Files/DakVN4xbDB.txt\n",
      "touch ./Files/5VIaaQzgIy.txt\n",
      "touch ./Files/yHyIKxblTj.txt\n",
      "touch ./Files/wEgmzggP.txt\n",
      "touch ./Files/TNEnu9J7sq.txt\n",
      "touch ./Files/9Kvrvpc.txt\n",
      "touch ./Files/sQ24S2pMYJ.txt\n",
      "touch ./Files/0yJJ6xz7H.txt\n",
      "touch ./Files/rkqiBUFGxs.txt\n",
      "touch ./Files/gdPhqzBr.txt\n",
      "touch ./Files/WxdXkN0B.txt\n",
      "touch ./Files/zBZGVdtd70.txt\n",
      "touch ./Files/DrsaXxXF.txt\n",
      "touch ./Files/Owyprx3.txt\n",
      "touch ./Files/Bmr7rbmJb.txt\n",
      "touch ./Files/VJbaGx8yS.txt\n",
      "touch ./Files/ghQax85l.txt\n",
      "touch ./Files/OUB7561B.txt\n",
      "touch ./Files/oGOAU0DpC.txt\n",
      "touch ./Files/RVCbAqieTp.txt\n",
      "touch ./Files/rBXQsMcIhD.txt\n",
      "touch ./Files/Zk6IvTiv.txt\n",
      "touch ./Files/J9KyRCGLV.txt\n",
      "touch ./Files/9JKNEZtDA2.txt\n",
      "touch ./Files/jAaivvF4G.txt\n",
      "touch ./Files/pFWMmsXOVW.txt\n",
      "touch ./Files/cFRyRQovC.txt\n",
      "touch ./Files/m24AlOa5.txt\n",
      "touch ./Files/8g6Ppn5iY.txt\n",
      "touch ./Files/tOYCYU9jMl.txt\n",
      "touch ./Files/e0TLLVawht.txt\n",
      "touch ./Files/0eFgnGQ9n.txt\n",
      "touch ./Files/rb9qV1DxY2.txt\n",
      "touch ./Files/jVeVbqBHW.txt\n",
      "touch ./Files/DFeGUNtu.txt\n",
      "touch ./Files/Yy3Oew17.txt\n",
      "touch ./Files/CU7DhdSOad.txt\n",
      "touch ./Files/MBzpetY.txt\n",
      "touch ./Files/AjJrvfRwDP.txt\n",
      "touch ./Files/ZSAmoceBk.txt\n",
      "touch ./Files/M0lU9qOKIv.txt\n",
      "touch ./Files/UJ95h8E4H.txt\n",
      "touch ./Files/xjGQGThw.txt\n",
      "touch ./Files/sE22FXb.txt\n",
      "touch ./Files/cEiVrXnw.txt\n",
      "touch ./Files/VpcO6fD.txt\n",
      "touch ./Files/YYGF9182.txt\n",
      "touch ./Files/IoFDXZNV.txt\n",
      "touch ./Files/CoxdzUDXXz.txt\n",
      "touch ./Files/FE5Oafp0K.txt\n",
      "touch ./Files/eZQmT7Aaie.txt\n"
     ]
    }
   ],
   "source": [
    "characters = string.digits + string.letters\n",
    "for i in range(100): # generate 100 files\n",
    "    #select a random file name lenght\n",
    "    size = random.randint(7,10) # a random file size\n",
    "    a = \"\"\n",
    "    for i in range(size):\n",
    "        a += random.choice(characters)\n",
    "    a += '.txt'\n",
    "    a = './Files/' + a\n",
    "#     print a\n",
    "    command = 'touch '+a\n",
    "    print command\n",
    "    \n",
    "#     os.system(command)\n",
    "    "
   ]
  }
 ],
 "metadata": {
  "kernelspec": {
   "display_name": "Python 2",
   "language": "python",
   "name": "python2"
  },
  "language_info": {
   "codemirror_mode": {
    "name": "ipython",
    "version": 2
   },
   "file_extension": ".py",
   "mimetype": "text/x-python",
   "name": "python",
   "nbconvert_exporter": "python",
   "pygments_lexer": "ipython2",
   "version": "2.7.12"
  }
 },
 "nbformat": 4,
 "nbformat_minor": 2
}
