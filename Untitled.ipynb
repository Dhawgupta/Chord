{
 "cells": [
  {
   "cell_type": "code",
   "execution_count": 1,
   "metadata": {},
   "outputs": [],
   "source": [
    "from ChordRpC import Node\n"
   ]
  },
  {
   "cell_type": "code",
   "execution_count": 2,
   "metadata": {},
   "outputs": [
    {
     "name": "stdout",
     "output_type": "stream",
     "text": [
      "Starting the XML-RPC Server \n",
      "IP address : 127.0.0.1\n",
      "Port : 10002\n",
      "Key : 21\n",
      "Starting to join...\n",
      "Next Node not specified\n",
      "Ring init finished\n",
      "Quitting Join\n"
     ]
    }
   ],
   "source": [
    "node1 = Node(port = 10002)\n",
    "node1.start_server()\n",
    "node1.join()\n"
   ]
  },
  {
   "cell_type": "code",
   "execution_count": 3,
   "metadata": {},
   "outputs": [
    {
     "name": "stdout",
     "output_type": "stream",
     "text": [
      "Starting the XML-RPC Server \n",
      "IP address : 127.0.0.1\n",
      "Port : 10003\n",
      "Key : 7\n",
      "Starting to join...\n",
      "Next Node is specified\n",
      "Inside init table\n",
      "[21, '127.0.0.1', 10002]\n",
      "http://127.0.0.1:10002/ - is the connecting node\n",
      "Finding Successor for 8\n",
      "Finding Predecessor for 8\n",
      "http://127.0.0.1:10002/ - is the connecting node\n",
      "Exiting Predecessor for 8\n",
      "Exiting Successor for 8\n",
      "http://127.0.0.1:10002/ - is the connecting node\n",
      "http://127.0.0.1:10002/ - is the connecting node\n",
      "Okay\n",
      "http://127.0.0.1:10002/ - is the connecting node\n",
      "http://127.0.0.1:10002/ - is the connecting node\n",
      "Okay2\n",
      "http://127.0.0.1:10002/ - is the connecting node\n",
      "Finding Successor for 9\n",
      "Finding Predecessor for 9\n",
      "http://127.0.0.1:10002/ - is the connecting node\n",
      "Next\n",
      "Finding Closest Preceeding Node for 9http://127.0.0.1:10002/ - is the connecting node\n",
      "\n",
      "http://127.0.0.1:10003/ - is the connecting node\n",
      "Exiting Predecessor for 9\n",
      "Exiting Successor for 9\n",
      "http://127.0.0.1:10003/ - is the connecting node\n",
      "Finding Successor for 11http://127.0.0.1:10002/ - is the connecting node\n",
      "\n",
      "Finding Predecessor for 11\n",
      "http://127.0.0.1:10002/ - is the connecting node\n",
      "Next\n",
      "http://127.0.0.1:10002/ - is the connecting node\n",
      "Finding Closest Preceeding Node for 11\n",
      "http://127.0.0.1:10003/ - is the connecting node\n",
      "Exiting Predecessor for 11\n",
      "Exiting Successor for 11\n",
      "http://127.0.0.1:10003/ - is the connecting node\n",
      "http://127.0.0.1:10002/ - is the connecting node\n",
      "Finding Successor for 15\n",
      "Finding Predecessor for 15\n",
      "http://127.0.0.1:10002/ - is the connecting node\n",
      "Next\n",
      "http://127.0.0.1:10002/ - is the connecting node\n",
      "Finding Closest Preceeding Node for 15\n",
      "http://127.0.0.1:10003/ - is the connecting node\n",
      "Exiting Predecessor for 15\n",
      "Exiting Successor for 15\n",
      "http://127.0.0.1:10003/ - is the connecting node\n",
      "http://127.0.0.1:10002/ - is the connecting node\n",
      "Finding Successor for 23\n",
      "Finding Predecessor for 23\n",
      "http://127.0.0.1:10002/ - is the connecting node\n",
      "Exiting Predecessor for 23\n",
      "Exiting Successor for 23\n",
      "http://127.0.0.1:10002/ - is the connecting node\n",
      "Finger table initialized\n",
      "Finge Table Initialized\n",
      "Updating Others\n",
      "Finding Predecessor for 6\n",
      "http://127.0.0.1:10003/ - is the connecting node\n",
      "Next\n",
      "http://127.0.0.1:10003/ - is the connecting node\n",
      "Finding Closest Preceeding Node for 6\n",
      "http://127.0.0.1:10002/ - is the connecting node\n",
      "Exiting Predecessor for 6\n",
      "http://127.0.0.1:10002/ - is the connecting node\n",
      "Updating Finger Table\n",
      "Updated Finger Table\n",
      "Finding Predecessor for 5\n",
      "http://127.0.0.1:10003/ - is the connecting node\n",
      "Next\n",
      "http://127.0.0.1:10003/ - is the connecting node\n",
      "Finding Closest Preceeding Node for 5\n",
      "http://127.0.0.1:10002/ - is the connecting node\n",
      "Exiting Predecessor for 5\n",
      "http://127.0.0.1:10002/ - is the connecting node\n",
      "Updating Finger Table\n",
      "http://127.0.0.1:10003/ - is the connecting node\n",
      "Updating Finger Table\n",
      "http://127.0.0.1:10002/ - is the connecting node\n",
      "Updating Finger Table\n",
      "Updated Finger Table\n",
      "Updated Finger Table\n",
      "Updated Finger Table\n",
      "Finding Predecessor for 3\n",
      "http://127.0.0.1:10003/ - is the connecting node\n",
      "Next\n",
      "http://127.0.0.1:10003/ - is the connecting node\n",
      "Finding Closest Preceeding Node for 3\n",
      "http://127.0.0.1:10002/ - is the connecting node\n",
      "Exiting Predecessor for 3\n",
      "http://127.0.0.1:10002/ - is the connecting node\n",
      "Updating Finger Table\n",
      "http://127.0.0.1:10003/ - is the connecting node\n",
      "Updating Finger Table\n",
      "http://127.0.0.1:10002/ - is the connecting node\n",
      "Updating Finger Table\n",
      "Updated Finger Table\n",
      "Updated Finger Table\n",
      "Updated Finger Table\n",
      "Finding Predecessor for -1\n",
      "http://127.0.0.1:10003/ - is the connecting node\n",
      "Next\n",
      "http://127.0.0.1:10003/ - is the connecting node\n",
      "Finding Closest Preceeding Node for -1\n",
      "http://127.0.0.1:10002/ - is the connecting node\n",
      "Exiting Predecessor for -1\n",
      "http://127.0.0.1:10002/ - is the connecting node\n",
      "Updating Finger Table\n",
      "http://127.0.0.1:10003/ - is the connecting node\n",
      "Updating Finger Table\n",
      "http://127.0.0.1:10002/ - is the connecting node\n",
      "Updating Finger Table\n",
      "Updated Finger Table\n",
      "Updated Finger Table\n",
      "Updated Finger Table\n",
      "Finding Predecessor for -9\n",
      "http://127.0.0.1:10003/ - is the connecting node\n",
      "Next\n",
      "http://127.0.0.1:10003/ - is the connecting node\n",
      "Finding Closest Preceeding Node for -9\n",
      "http://127.0.0.1:10002/ - is the connecting node\n",
      "Exiting Predecessor for -9\n",
      "http://127.0.0.1:10002/ - is the connecting node\n",
      "Updating Finger Table\n",
      "http://127.0.0.1:10003/ - is the connecting node\n",
      "Updating Finger Table\n",
      "http://127.0.0.1:10002/ - is the connecting node\n",
      "Updating Finger Table\n",
      "Updated Finger Table\n",
      "Updated Finger Table\n",
      "Updated Finger Table\n",
      "Finieshed Updating Others\n",
      "Other nodes updated\n",
      "Quitting Join\n"
     ]
    },
    {
     "name": "stderr",
     "output_type": "stream",
     "text": [
      "127.0.0.1 - - [08/Mar/2018 00:55:17] \"POST / HTTP/1.1\" 200 -\n",
      "127.0.0.1 - - [08/Mar/2018 00:55:17] \"POST / HTTP/1.1\" 200 -\n",
      "127.0.0.1 - - [08/Mar/2018 00:55:17] \"POST / HTTP/1.1\" 200 -\n",
      "127.0.0.1 - - [08/Mar/2018 00:55:17] \"POST / HTTP/1.1\" 200 -\n",
      "127.0.0.1 - - [08/Mar/2018 00:55:17] \"POST / HTTP/1.1\" 200 -\n",
      "127.0.0.1 - - [08/Mar/2018 00:55:17] \"POST / HTTP/1.1\" 200 -\n",
      "127.0.0.1 - - [08/Mar/2018 00:55:17] \"POST / HTTP/1.1\" 200 -\n",
      "127.0.0.1 - - [08/Mar/2018 00:55:17] \"POST / HTTP/1.1\" 200 -\n",
      "127.0.0.1 - - [08/Mar/2018 00:55:17] \"POST / HTTP/1.1\" 200 -\n",
      "127.0.0.1 - - [08/Mar/2018 00:55:17] \"POST / HTTP/1.1\" 200 -\n",
      "127.0.0.1 - - [08/Mar/2018 00:55:17] \"POST / HTTP/1.1\" 200 -\n",
      "127.0.0.1 - - [08/Mar/2018 00:55:17] \"POST / HTTP/1.1\" 200 -\n",
      "127.0.0.1 - - [08/Mar/2018 00:55:17] \"POST / HTTP/1.1\" 200 -\n",
      "127.0.0.1 - - [08/Mar/2018 00:55:17] \"POST / HTTP/1.1\" 200 -\n",
      "127.0.0.1 - - [08/Mar/2018 00:55:17] \"POST / HTTP/1.1\" 200 -\n",
      "127.0.0.1 - - [08/Mar/2018 00:55:17] \"POST / HTTP/1.1\" 200 -\n",
      "127.0.0.1 - - [08/Mar/2018 00:55:17] \"POST / HTTP/1.1\" 200 -\n",
      "127.0.0.1 - - [08/Mar/2018 00:55:17] \"POST / HTTP/1.1\" 200 -\n",
      "127.0.0.1 - - [08/Mar/2018 00:55:17] \"POST / HTTP/1.1\" 200 -\n",
      "127.0.0.1 - - [08/Mar/2018 00:55:17] \"POST / HTTP/1.1\" 200 -\n",
      "127.0.0.1 - - [08/Mar/2018 00:55:17] \"POST / HTTP/1.1\" 200 -\n",
      "127.0.0.1 - - [08/Mar/2018 00:55:17] \"POST / HTTP/1.1\" 200 -\n",
      "127.0.0.1 - - [08/Mar/2018 00:55:17] \"POST / HTTP/1.1\" 200 -\n",
      "127.0.0.1 - - [08/Mar/2018 00:55:17] \"POST / HTTP/1.1\" 200 -\n",
      "127.0.0.1 - - [08/Mar/2018 00:55:17] \"POST / HTTP/1.1\" 200 -\n",
      "127.0.0.1 - - [08/Mar/2018 00:55:17] \"POST / HTTP/1.1\" 200 -\n",
      "127.0.0.1 - - [08/Mar/2018 00:55:17] \"POST / HTTP/1.1\" 200 -\n",
      "127.0.0.1 - - [08/Mar/2018 00:55:17] \"POST / HTTP/1.1\" 200 -\n",
      "127.0.0.1 - - [08/Mar/2018 00:55:17] \"POST / HTTP/1.1\" 200 -\n",
      "127.0.0.1 - - [08/Mar/2018 00:55:17] \"POST / HTTP/1.1\" 200 -\n",
      "127.0.0.1 - - [08/Mar/2018 00:55:17] \"POST / HTTP/1.1\" 200 -\n",
      "127.0.0.1 - - [08/Mar/2018 00:55:17] \"POST / HTTP/1.1\" 200 -\n",
      "127.0.0.1 - - [08/Mar/2018 00:55:17] \"POST / HTTP/1.1\" 200 -\n",
      "127.0.0.1 - - [08/Mar/2018 00:55:17] \"POST / HTTP/1.1\" 200 -\n",
      "127.0.0.1 - - [08/Mar/2018 00:55:17] \"POST / HTTP/1.1\" 200 -\n",
      "127.0.0.1 - - [08/Mar/2018 00:55:17] \"POST / HTTP/1.1\" 200 -\n",
      "127.0.0.1 - - [08/Mar/2018 00:55:17] \"POST / HTTP/1.1\" 200 -\n",
      "127.0.0.1 - - [08/Mar/2018 00:55:17] \"POST / HTTP/1.1\" 200 -\n",
      "127.0.0.1 - - [08/Mar/2018 00:55:17] \"POST / HTTP/1.1\" 200 -\n",
      "127.0.0.1 - - [08/Mar/2018 00:55:17] \"POST / HTTP/1.1\" 200 -\n",
      "127.0.0.1 - - [08/Mar/2018 00:55:17] \"POST / HTTP/1.1\" 200 -\n",
      "127.0.0.1 - - [08/Mar/2018 00:55:17] \"POST / HTTP/1.1\" 200 -\n",
      "127.0.0.1 - - [08/Mar/2018 00:55:17] \"POST / HTTP/1.1\" 200 -\n",
      "127.0.0.1 - - [08/Mar/2018 00:55:17] \"POST / HTTP/1.1\" 200 -\n",
      "127.0.0.1 - - [08/Mar/2018 00:55:17] \"POST / HTTP/1.1\" 200 -\n",
      "127.0.0.1 - - [08/Mar/2018 00:55:17] \"POST / HTTP/1.1\" 200 -\n",
      "127.0.0.1 - - [08/Mar/2018 00:55:17] \"POST / HTTP/1.1\" 200 -\n",
      "127.0.0.1 - - [08/Mar/2018 00:55:17] \"POST / HTTP/1.1\" 200 -\n",
      "127.0.0.1 - - [08/Mar/2018 00:55:17] \"POST / HTTP/1.1\" 200 -\n",
      "127.0.0.1 - - [08/Mar/2018 00:55:17] \"POST / HTTP/1.1\" 200 -\n",
      "127.0.0.1 - - [08/Mar/2018 00:55:17] \"POST / HTTP/1.1\" 200 -\n",
      "127.0.0.1 - - [08/Mar/2018 00:55:17] \"POST / HTTP/1.1\" 200 -\n"
     ]
    }
   ],
   "source": [
    "n1 = [21, '127.0.0.1', 10002]\n",
    "node2 = Node(port = 10003, next_node= n1)\n",
    "node2.start_server()\n",
    "node2.join(n1)\n"
   ]
  },
  {
   "cell_type": "code",
   "execution_count": 4,
   "metadata": {},
   "outputs": [
    {
     "name": "stdout",
     "output_type": "stream",
     "text": [
      "Starting the XML-RPC Server \n",
      "IP address : 127.0.0.1\n",
      "Port : 10004\n",
      "Key : 12Finding Successor for 13\n",
      "\n",
      "Finding Predecessor for 13Starting to join...\n",
      "\n",
      "http://127.0.0.1:10003/ - is the connecting nodeNext Node is specified\n",
      "\n",
      "Exiting Predecessor for 13Inside init table\n",
      "\n",
      "Exiting Successor for 13[7, '127.0.0.1', 10003]\n",
      "\n",
      "http://127.0.0.1:10003/ - is the connecting nodehttp://127.0.0.1:10003/ - is the connecting node\n",
      "\n",
      "http://127.0.0.1:10002/ - is the connecting node\n",
      "Okay\n",
      "http://127.0.0.1:10002/ - is the connecting node\n",
      "http://127.0.0.1:10003/ - is the connecting node\n",
      "Okay2\n",
      "http://127.0.0.1:10003/ - is the connecting node\n",
      "Finding Successor for 14\n",
      "Finding Predecessor for 14\n",
      "http://127.0.0.1:10003/ - is the connecting node\n",
      "Next\n",
      "http://127.0.0.1:10003/ - is the connecting node\n",
      "Finding Closest Preceeding Node for 14\n",
      "http://127.0.0.1:10004/ - is the connecting node\n",
      "Exiting Predecessor for 14\n",
      "Exiting Successor for 14\n",
      "http://127.0.0.1:10004/ - is the connecting node\n",
      "http://127.0.0.1:10003/ - is the connecting node\n",
      "Finding Successor for 16\n",
      "Finding Predecessor for 16\n",
      "http://127.0.0.1:10003/ - is the connecting node\n",
      "Next\n",
      "http://127.0.0.1:10003/ - is the connecting node\n",
      "Finding Closest Preceeding Node for 16\n",
      "http://127.0.0.1:10004/ - is the connecting node\n",
      "Exiting Predecessor for 16\n",
      "Exiting Successor for 16\n",
      "http://127.0.0.1:10004/ - is the connecting node\n",
      "http://127.0.0.1:10003/ - is the connecting node\n",
      "Finding Successor for 20\n",
      "Finding Predecessor for 20\n",
      "http://127.0.0.1:10003/ - is the connecting node\n",
      "Next\n",
      "http://127.0.0.1:10003/ - is the connecting node\n",
      "Finding Closest Preceeding Node for 20\n",
      "http://127.0.0.1:10004/ - is the connecting node\n",
      "Exiting Predecessor for 20\n",
      "Exiting Successor for 20\n",
      "http://127.0.0.1:10004/ - is the connecting node\n",
      "http://127.0.0.1:10003/ - is the connecting node\n",
      "Finding Successor for 28\n",
      "Finding Predecessor for 28\n",
      "http://127.0.0.1:10003/ - is the connecting node\n",
      "Next\n",
      "http://127.0.0.1:10003/ - is the connecting node\n",
      "Finding Closest Preceeding Node for 28\n",
      "http://127.0.0.1:10004/ - is the connecting node\n",
      "Next\n",
      "http://127.0.0.1:10004/ - is the connecting node\n",
      "Finding Closest Preceeding Node for 28\n"
     ]
    },
    {
     "name": "stderr",
     "output_type": "stream",
     "text": [
      "127.0.0.1 - - [08/Mar/2018 00:55:38] \"POST / HTTP/1.1\" 200 -\n",
      "127.0.0.1 - - [08/Mar/2018 00:55:38] \"POST / HTTP/1.1\" 200 -\n",
      "127.0.0.1 - - [08/Mar/2018 00:55:38] \"POST / HTTP/1.1\" 200 -\n",
      "127.0.0.1 - - [08/Mar/2018 00:55:38] \"POST / HTTP/1.1\" 200 -\n",
      "127.0.0.1 - - [08/Mar/2018 00:55:38] \"POST / HTTP/1.1\" 200 -\n",
      "127.0.0.1 - - [08/Mar/2018 00:55:38] \"POST / HTTP/1.1\" 200 -\n",
      "127.0.0.1 - - [08/Mar/2018 00:55:38] \"POST / HTTP/1.1\" 200 -\n",
      "127.0.0.1 - - [08/Mar/2018 00:55:38] \"POST / HTTP/1.1\" 200 -\n",
      "127.0.0.1 - - [08/Mar/2018 00:55:38] \"POST / HTTP/1.1\" 200 -\n",
      "127.0.0.1 - - [08/Mar/2018 00:55:38] \"POST / HTTP/1.1\" 200 -\n",
      "127.0.0.1 - - [08/Mar/2018 00:55:38] \"POST / HTTP/1.1\" 200 -\n",
      "127.0.0.1 - - [08/Mar/2018 00:55:38] \"POST / HTTP/1.1\" 200 -\n",
      "127.0.0.1 - - [08/Mar/2018 00:55:38] \"POST / HTTP/1.1\" 200 -\n",
      "127.0.0.1 - - [08/Mar/2018 00:55:38] \"POST / HTTP/1.1\" 200 -\n",
      "127.0.0.1 - - [08/Mar/2018 00:55:38] \"POST / HTTP/1.1\" 200 -\n",
      "127.0.0.1 - - [08/Mar/2018 00:55:38] \"POST / HTTP/1.1\" 200 -\n",
      "127.0.0.1 - - [08/Mar/2018 00:55:38] \"POST / HTTP/1.1\" 200 -\n",
      "127.0.0.1 - - [08/Mar/2018 00:55:38] \"POST / HTTP/1.1\" 200 -\n",
      "127.0.0.1 - - [08/Mar/2018 00:55:38] \"POST / HTTP/1.1\" 200 -\n",
      "127.0.0.1 - - [08/Mar/2018 00:55:38] \"POST / HTTP/1.1\" 200 -\n",
      "127.0.0.1 - - [08/Mar/2018 00:55:38] \"POST / HTTP/1.1\" 200 -\n",
      "127.0.0.1 - - [08/Mar/2018 00:55:38] \"POST / HTTP/1.1\" 200 -\n",
      "127.0.0.1 - - [08/Mar/2018 00:55:38] \"POST / HTTP/1.1\" 200 -\n",
      "127.0.0.1 - - [08/Mar/2018 00:55:38] \"POST / HTTP/1.1\" 200 -\n",
      "127.0.0.1 - - [08/Mar/2018 00:55:38] \"POST / HTTP/1.1\" 200 -\n",
      "127.0.0.1 - - [08/Mar/2018 00:55:38] \"POST / HTTP/1.1\" 200 -\n"
     ]
    },
    {
     "ename": "Fault",
     "evalue": "<Fault 1: \"<type 'exceptions.KeyError'>:4\">",
     "output_type": "error",
     "traceback": [
      "\u001b[0;31m---------------------------------------------------------------------------\u001b[0m",
      "\u001b[0;31mFault\u001b[0m                                     Traceback (most recent call last)",
      "\u001b[0;32m<ipython-input-4-d2e0230b1a8e>\u001b[0m in \u001b[0;36m<module>\u001b[0;34m()\u001b[0m\n\u001b[1;32m      2\u001b[0m \u001b[0mnode3\u001b[0m \u001b[0;34m=\u001b[0m \u001b[0mNode\u001b[0m\u001b[0;34m(\u001b[0m\u001b[0mport\u001b[0m \u001b[0;34m=\u001b[0m \u001b[0;36m10004\u001b[0m\u001b[0;34m,\u001b[0m \u001b[0mnext_node\u001b[0m\u001b[0;34m=\u001b[0m \u001b[0mn2\u001b[0m\u001b[0;34m)\u001b[0m\u001b[0;34m\u001b[0m\u001b[0m\n\u001b[1;32m      3\u001b[0m \u001b[0mnode3\u001b[0m\u001b[0;34m.\u001b[0m\u001b[0mstart_server\u001b[0m\u001b[0;34m(\u001b[0m\u001b[0;34m)\u001b[0m\u001b[0;34m\u001b[0m\u001b[0m\n\u001b[0;32m----> 4\u001b[0;31m \u001b[0mnode3\u001b[0m\u001b[0;34m.\u001b[0m\u001b[0mjoin\u001b[0m\u001b[0;34m(\u001b[0m\u001b[0mn2\u001b[0m\u001b[0;34m)\u001b[0m\u001b[0;34m\u001b[0m\u001b[0m\n\u001b[0m",
      "\u001b[0;32m/home/dawg/Documents/Semester6/Chord/ChordRpC.pyc\u001b[0m in \u001b[0;36mjoin\u001b[0;34m(self, n_dash)\u001b[0m\n\u001b[1;32m    203\u001b[0m         \u001b[0;32mif\u001b[0m \u001b[0mn_dash\u001b[0m \u001b[0;32mis\u001b[0m \u001b[0;32mnot\u001b[0m \u001b[0mNone\u001b[0m\u001b[0;34m:\u001b[0m\u001b[0;34m\u001b[0m\u001b[0m\n\u001b[1;32m    204\u001b[0m             \u001b[0;32mprint\u001b[0m\u001b[0;34m(\u001b[0m\u001b[0;34m\"Next Node is specified\"\u001b[0m\u001b[0;34m)\u001b[0m\u001b[0;34m\u001b[0m\u001b[0m\n\u001b[0;32m--> 205\u001b[0;31m             \u001b[0mself\u001b[0m\u001b[0;34m.\u001b[0m\u001b[0minit_finger_table\u001b[0m\u001b[0;34m(\u001b[0m\u001b[0mn_dash\u001b[0m\u001b[0;34m)\u001b[0m\u001b[0;34m\u001b[0m\u001b[0m\n\u001b[0m\u001b[1;32m    206\u001b[0m             \u001b[0;32mprint\u001b[0m\u001b[0;34m(\u001b[0m\u001b[0;34m\"Finge Table Initialized\"\u001b[0m\u001b[0;34m)\u001b[0m\u001b[0;34m\u001b[0m\u001b[0m\n\u001b[1;32m    207\u001b[0m             \u001b[0;31m#todo see toif using the update others\u001b[0m\u001b[0;34m\u001b[0m\u001b[0;34m\u001b[0m\u001b[0m\n",
      "\u001b[0;32m/home/dawg/Documents/Semester6/Chord/ChordRpC.pyc\u001b[0m in \u001b[0;36minit_finger_table\u001b[0;34m(self, n_dash)\u001b[0m\n\u001b[1;32m    237\u001b[0m         \u001b[0;32mfor\u001b[0m \u001b[0mi\u001b[0m \u001b[0;32min\u001b[0m \u001b[0mrange\u001b[0m\u001b[0;34m(\u001b[0m\u001b[0mself\u001b[0m\u001b[0;34m.\u001b[0m\u001b[0mm\u001b[0m\u001b[0;34m-\u001b[0m\u001b[0;36m1\u001b[0m\u001b[0;34m)\u001b[0m\u001b[0;34m:\u001b[0m\u001b[0;34m\u001b[0m\u001b[0m\n\u001b[1;32m    238\u001b[0m             \u001b[0;31m# todo the if conditoin mentioned in paper\u001b[0m\u001b[0;34m\u001b[0m\u001b[0;34m\u001b[0m\u001b[0m\n\u001b[0;32m--> 239\u001b[0;31m             \u001b[0mself\u001b[0m\u001b[0;34m.\u001b[0m\u001b[0mfinger_table\u001b[0m\u001b[0;34m[\u001b[0m\u001b[0mi\u001b[0m\u001b[0;34m+\u001b[0m\u001b[0;36m1\u001b[0m\u001b[0;34m]\u001b[0m \u001b[0;34m=\u001b[0m \u001b[0mNode\u001b[0m\u001b[0;34m.\u001b[0m\u001b[0mlist_to_rpc\u001b[0m\u001b[0;34m(\u001b[0m\u001b[0mn_dash\u001b[0m\u001b[0;34m)\u001b[0m\u001b[0;34m.\u001b[0m\u001b[0mfind_successor\u001b[0m\u001b[0;34m(\u001b[0m\u001b[0mself\u001b[0m\u001b[0;34m.\u001b[0m\u001b[0mfinger_start\u001b[0m\u001b[0;34m[\u001b[0m\u001b[0mi\u001b[0m\u001b[0;34m+\u001b[0m\u001b[0;36m1\u001b[0m\u001b[0;34m]\u001b[0m\u001b[0;34m)\u001b[0m\u001b[0;34m\u001b[0m\u001b[0m\n\u001b[0m\u001b[1;32m    240\u001b[0m         \u001b[0;32mprint\u001b[0m\u001b[0;34m(\u001b[0m\u001b[0;34m\"Finger table initialized\"\u001b[0m\u001b[0;34m)\u001b[0m\u001b[0;34m\u001b[0m\u001b[0m\n\u001b[1;32m    241\u001b[0m \u001b[0;34m\u001b[0m\u001b[0m\n",
      "\u001b[0;32m/usr/lib/python2.7/xmlrpclib.pyc\u001b[0m in \u001b[0;36m__call__\u001b[0;34m(self, *args)\u001b[0m\n\u001b[1;32m   1241\u001b[0m         \u001b[0;32mreturn\u001b[0m \u001b[0m_Method\u001b[0m\u001b[0;34m(\u001b[0m\u001b[0mself\u001b[0m\u001b[0;34m.\u001b[0m\u001b[0m__send\u001b[0m\u001b[0;34m,\u001b[0m \u001b[0;34m\"%s.%s\"\u001b[0m \u001b[0;34m%\u001b[0m \u001b[0;34m(\u001b[0m\u001b[0mself\u001b[0m\u001b[0;34m.\u001b[0m\u001b[0m__name\u001b[0m\u001b[0;34m,\u001b[0m \u001b[0mname\u001b[0m\u001b[0;34m)\u001b[0m\u001b[0;34m)\u001b[0m\u001b[0;34m\u001b[0m\u001b[0m\n\u001b[1;32m   1242\u001b[0m     \u001b[0;32mdef\u001b[0m \u001b[0m__call__\u001b[0m\u001b[0;34m(\u001b[0m\u001b[0mself\u001b[0m\u001b[0;34m,\u001b[0m \u001b[0;34m*\u001b[0m\u001b[0margs\u001b[0m\u001b[0;34m)\u001b[0m\u001b[0;34m:\u001b[0m\u001b[0;34m\u001b[0m\u001b[0m\n\u001b[0;32m-> 1243\u001b[0;31m         \u001b[0;32mreturn\u001b[0m \u001b[0mself\u001b[0m\u001b[0;34m.\u001b[0m\u001b[0m__send\u001b[0m\u001b[0;34m(\u001b[0m\u001b[0mself\u001b[0m\u001b[0;34m.\u001b[0m\u001b[0m__name\u001b[0m\u001b[0;34m,\u001b[0m \u001b[0margs\u001b[0m\u001b[0;34m)\u001b[0m\u001b[0;34m\u001b[0m\u001b[0m\n\u001b[0m\u001b[1;32m   1244\u001b[0m \u001b[0;34m\u001b[0m\u001b[0m\n\u001b[1;32m   1245\u001b[0m \u001b[0;31m##\u001b[0m\u001b[0;34m\u001b[0m\u001b[0;34m\u001b[0m\u001b[0m\n",
      "\u001b[0;32m/usr/lib/python2.7/xmlrpclib.pyc\u001b[0m in \u001b[0;36m__request\u001b[0;34m(self, methodname, params)\u001b[0m\n\u001b[1;32m   1600\u001b[0m             \u001b[0mself\u001b[0m\u001b[0;34m.\u001b[0m\u001b[0m__handler\u001b[0m\u001b[0;34m,\u001b[0m\u001b[0;34m\u001b[0m\u001b[0m\n\u001b[1;32m   1601\u001b[0m             \u001b[0mrequest\u001b[0m\u001b[0;34m,\u001b[0m\u001b[0;34m\u001b[0m\u001b[0m\n\u001b[0;32m-> 1602\u001b[0;31m             \u001b[0mverbose\u001b[0m\u001b[0;34m=\u001b[0m\u001b[0mself\u001b[0m\u001b[0;34m.\u001b[0m\u001b[0m__verbose\u001b[0m\u001b[0;34m\u001b[0m\u001b[0m\n\u001b[0m\u001b[1;32m   1603\u001b[0m             )\n\u001b[1;32m   1604\u001b[0m \u001b[0;34m\u001b[0m\u001b[0m\n",
      "\u001b[0;32m/usr/lib/python2.7/xmlrpclib.pyc\u001b[0m in \u001b[0;36mrequest\u001b[0;34m(self, host, handler, request_body, verbose)\u001b[0m\n\u001b[1;32m   1281\u001b[0m         \u001b[0;32mfor\u001b[0m \u001b[0mi\u001b[0m \u001b[0;32min\u001b[0m \u001b[0;34m(\u001b[0m\u001b[0;36m0\u001b[0m\u001b[0;34m,\u001b[0m \u001b[0;36m1\u001b[0m\u001b[0;34m)\u001b[0m\u001b[0;34m:\u001b[0m\u001b[0;34m\u001b[0m\u001b[0m\n\u001b[1;32m   1282\u001b[0m             \u001b[0;32mtry\u001b[0m\u001b[0;34m:\u001b[0m\u001b[0;34m\u001b[0m\u001b[0m\n\u001b[0;32m-> 1283\u001b[0;31m                 \u001b[0;32mreturn\u001b[0m \u001b[0mself\u001b[0m\u001b[0;34m.\u001b[0m\u001b[0msingle_request\u001b[0m\u001b[0;34m(\u001b[0m\u001b[0mhost\u001b[0m\u001b[0;34m,\u001b[0m \u001b[0mhandler\u001b[0m\u001b[0;34m,\u001b[0m \u001b[0mrequest_body\u001b[0m\u001b[0;34m,\u001b[0m \u001b[0mverbose\u001b[0m\u001b[0;34m)\u001b[0m\u001b[0;34m\u001b[0m\u001b[0m\n\u001b[0m\u001b[1;32m   1284\u001b[0m             \u001b[0;32mexcept\u001b[0m \u001b[0msocket\u001b[0m\u001b[0;34m.\u001b[0m\u001b[0merror\u001b[0m\u001b[0;34m,\u001b[0m \u001b[0me\u001b[0m\u001b[0;34m:\u001b[0m\u001b[0;34m\u001b[0m\u001b[0m\n\u001b[1;32m   1285\u001b[0m                 \u001b[0;32mif\u001b[0m \u001b[0mi\u001b[0m \u001b[0;32mor\u001b[0m \u001b[0me\u001b[0m\u001b[0;34m.\u001b[0m\u001b[0merrno\u001b[0m \u001b[0;32mnot\u001b[0m \u001b[0;32min\u001b[0m \u001b[0;34m(\u001b[0m\u001b[0merrno\u001b[0m\u001b[0;34m.\u001b[0m\u001b[0mECONNRESET\u001b[0m\u001b[0;34m,\u001b[0m \u001b[0merrno\u001b[0m\u001b[0;34m.\u001b[0m\u001b[0mECONNABORTED\u001b[0m\u001b[0;34m,\u001b[0m \u001b[0merrno\u001b[0m\u001b[0;34m.\u001b[0m\u001b[0mEPIPE\u001b[0m\u001b[0;34m)\u001b[0m\u001b[0;34m:\u001b[0m\u001b[0;34m\u001b[0m\u001b[0m\n",
      "\u001b[0;32m/usr/lib/python2.7/xmlrpclib.pyc\u001b[0m in \u001b[0;36msingle_request\u001b[0;34m(self, host, handler, request_body, verbose)\u001b[0m\n\u001b[1;32m   1314\u001b[0m             \u001b[0;32mif\u001b[0m \u001b[0mresponse\u001b[0m\u001b[0;34m.\u001b[0m\u001b[0mstatus\u001b[0m \u001b[0;34m==\u001b[0m \u001b[0;36m200\u001b[0m\u001b[0;34m:\u001b[0m\u001b[0;34m\u001b[0m\u001b[0m\n\u001b[1;32m   1315\u001b[0m                 \u001b[0mself\u001b[0m\u001b[0;34m.\u001b[0m\u001b[0mverbose\u001b[0m \u001b[0;34m=\u001b[0m \u001b[0mverbose\u001b[0m\u001b[0;34m\u001b[0m\u001b[0m\n\u001b[0;32m-> 1316\u001b[0;31m                 \u001b[0;32mreturn\u001b[0m \u001b[0mself\u001b[0m\u001b[0;34m.\u001b[0m\u001b[0mparse_response\u001b[0m\u001b[0;34m(\u001b[0m\u001b[0mresponse\u001b[0m\u001b[0;34m)\u001b[0m\u001b[0;34m\u001b[0m\u001b[0m\n\u001b[0m\u001b[1;32m   1317\u001b[0m         \u001b[0;32mexcept\u001b[0m \u001b[0mFault\u001b[0m\u001b[0;34m:\u001b[0m\u001b[0;34m\u001b[0m\u001b[0m\n\u001b[1;32m   1318\u001b[0m             \u001b[0;32mraise\u001b[0m\u001b[0;34m\u001b[0m\u001b[0m\n",
      "\u001b[0;32m/usr/lib/python2.7/xmlrpclib.pyc\u001b[0m in \u001b[0;36mparse_response\u001b[0;34m(self, response)\u001b[0m\n\u001b[1;32m   1491\u001b[0m         \u001b[0mp\u001b[0m\u001b[0;34m.\u001b[0m\u001b[0mclose\u001b[0m\u001b[0;34m(\u001b[0m\u001b[0;34m)\u001b[0m\u001b[0;34m\u001b[0m\u001b[0m\n\u001b[1;32m   1492\u001b[0m \u001b[0;34m\u001b[0m\u001b[0m\n\u001b[0;32m-> 1493\u001b[0;31m         \u001b[0;32mreturn\u001b[0m \u001b[0mu\u001b[0m\u001b[0;34m.\u001b[0m\u001b[0mclose\u001b[0m\u001b[0;34m(\u001b[0m\u001b[0;34m)\u001b[0m\u001b[0;34m\u001b[0m\u001b[0m\n\u001b[0m\u001b[1;32m   1494\u001b[0m \u001b[0;34m\u001b[0m\u001b[0m\n\u001b[1;32m   1495\u001b[0m \u001b[0;31m##\u001b[0m\u001b[0;34m\u001b[0m\u001b[0;34m\u001b[0m\u001b[0m\n",
      "\u001b[0;32m/usr/lib/python2.7/xmlrpclib.pyc\u001b[0m in \u001b[0;36mclose\u001b[0;34m(self)\u001b[0m\n\u001b[1;32m    798\u001b[0m             \u001b[0;32mraise\u001b[0m \u001b[0mResponseError\u001b[0m\u001b[0;34m(\u001b[0m\u001b[0;34m)\u001b[0m\u001b[0;34m\u001b[0m\u001b[0m\n\u001b[1;32m    799\u001b[0m         \u001b[0;32mif\u001b[0m \u001b[0mself\u001b[0m\u001b[0;34m.\u001b[0m\u001b[0m_type\u001b[0m \u001b[0;34m==\u001b[0m \u001b[0;34m\"fault\"\u001b[0m\u001b[0;34m:\u001b[0m\u001b[0;34m\u001b[0m\u001b[0m\n\u001b[0;32m--> 800\u001b[0;31m             \u001b[0;32mraise\u001b[0m \u001b[0mFault\u001b[0m\u001b[0;34m(\u001b[0m\u001b[0;34m**\u001b[0m\u001b[0mself\u001b[0m\u001b[0;34m.\u001b[0m\u001b[0m_stack\u001b[0m\u001b[0;34m[\u001b[0m\u001b[0;36m0\u001b[0m\u001b[0;34m]\u001b[0m\u001b[0;34m)\u001b[0m\u001b[0;34m\u001b[0m\u001b[0m\n\u001b[0m\u001b[1;32m    801\u001b[0m         \u001b[0;32mreturn\u001b[0m \u001b[0mtuple\u001b[0m\u001b[0;34m(\u001b[0m\u001b[0mself\u001b[0m\u001b[0;34m.\u001b[0m\u001b[0m_stack\u001b[0m\u001b[0;34m)\u001b[0m\u001b[0;34m\u001b[0m\u001b[0m\n\u001b[1;32m    802\u001b[0m \u001b[0;34m\u001b[0m\u001b[0m\n",
      "\u001b[0;31mFault\u001b[0m: <Fault 1: \"<type 'exceptions.KeyError'>:4\">"
     ]
    }
   ],
   "source": [
    "n2 = [7, '127.0.0.1', 10003]\n",
    "node3 = Node(port = 10004, next_node= n2)\n",
    "node3.start_server()\n",
    "node3.join(n2)\n"
   ]
  },
  {
   "cell_type": "code",
   "execution_count": 5,
   "metadata": {
    "collapsed": true
   },
   "outputs": [],
   "source": [
    "n3 = [12,'127.0.0.1',10004]\n",
    "\n"
   ]
  },
  {
   "cell_type": "code",
   "execution_count": 6,
   "metadata": {},
   "outputs": [
    {
     "name": "stdout",
     "output_type": "stream",
     "text": [
      "[21, '127.0.0.1', 10002]\n",
      "[7, '127.0.0.1', 10003]\n",
      "[12, '127.0.0.1', 10004]\n"
     ]
    }
   ],
   "source": [
    "print n1\n",
    "print n2\n",
    "print n3"
   ]
  },
  {
   "cell_type": "code",
   "execution_count": 7,
   "metadata": {},
   "outputs": [
    {
     "name": "stdout",
     "output_type": "stream",
     "text": [
      "{0: 22, 1: 23, 2: 25, 3: 29, 4: 5}\n",
      "{0: 8, 1: 9, 2: 11, 3: 15, 4: 23}\n",
      "{0: 13, 1: 14, 2: 16, 3: 20, 4: 28}\n"
     ]
    }
   ],
   "source": [
    "print node1.finger_start\n",
    "print node2.finger_start\n",
    "print node3.finger_start\n"
   ]
  },
  {
   "cell_type": "code",
   "execution_count": 8,
   "metadata": {},
   "outputs": [
    {
     "name": "stdout",
     "output_type": "stream",
     "text": [
      "{0: [7, '127.0.0.1', 10003], 1: [7, '127.0.0.1', 10003], 2: [7, '127.0.0.1', 10003], 3: [7, '127.0.0.1', 10003], 4: [7, '127.0.0.1', 10003]}\n",
      "{0: [12, '127.0.0.1', 10004], 1: [7, '127.0.0.1', 10003], 2: [7, '127.0.0.1', 10003], 3: [7, '127.0.0.1', 10003], 4: [7, '127.0.0.1', 10003]}\n",
      "{0: [21, '127.0.0.1', 10002], 1: [21, '127.0.0.1', 10002], 2: [21, '127.0.0.1', 10002], 3: [21, '127.0.0.1', 10002]}\n"
     ]
    }
   ],
   "source": [
    "print node1.finger_table\n",
    "print node2.finger_table\n",
    "print node3.finger_table\n"
   ]
  },
  {
   "cell_type": "code",
   "execution_count": 9,
   "metadata": {},
   "outputs": [
    {
     "name": "stdout",
     "output_type": "stream",
     "text": [
      "[7, '127.0.0.1', 10003]\n",
      "[12, '127.0.0.1', 10004]\n",
      "[21, '127.0.0.1', 10002]\n"
     ]
    }
   ],
   "source": [
    "print node1.get_successor()\n",
    "print node2.get_successor()\n",
    "print node3.get_successor()\n"
   ]
  },
  {
   "cell_type": "code",
   "execution_count": 10,
   "metadata": {},
   "outputs": [
    {
     "name": "stdout",
     "output_type": "stream",
     "text": [
      "[12, '127.0.0.1', 10004]\n",
      "[21, '127.0.0.1', 10002]\n",
      "[7, '127.0.0.1', 10003]\n"
     ]
    }
   ],
   "source": [
    "print node1.get_predecessor()\n",
    "print node2.get_predecessor()\n",
    "print node3.get_predecessor()\n"
   ]
  },
  {
   "cell_type": "code",
   "execution_count": null,
   "metadata": {
    "collapsed": true
   },
   "outputs": [],
   "source": []
  }
 ],
 "metadata": {
  "kernelspec": {
   "display_name": "Python 2",
   "language": "python",
   "name": "python2"
  },
  "language_info": {
   "codemirror_mode": {
    "name": "ipython",
    "version": 2
   },
   "file_extension": ".py",
   "mimetype": "text/x-python",
   "name": "python",
   "nbconvert_exporter": "python",
   "pygments_lexer": "ipython2",
   "version": "2.7.12"
  }
 },
 "nbformat": 4,
 "nbformat_minor": 2
}
