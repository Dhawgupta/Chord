{
 "cells": [
  {
   "cell_type": "code",
   "execution_count": 1,
   "metadata": {
    "collapsed": true
   },
   "outputs": [
    {
     "name": "stdout",
     "output_type": "stream",
     "text": [
      "216.58.196.196\n"
     ]
    }
   ],
   "source": [
    "import socket\n",
    "s = socket.socket(socket.AF_INET,socket.SOCK_STREAM)\n",
    "\n",
    "ip = socket.gethostbyname('www.google.com')\n",
    "print ip"
   ]
  },
  {
   "cell_type": "code",
   "execution_count": 3,
   "metadata": {},
   "outputs": [
    {
     "name": "stdout",
     "output_type": "stream",
     "text": [
      "Socket connceted\n"
     ]
    }
   ],
   "source": [
    "import sys\n",
    "try:\n",
    "    s = socket.socket(socket.AF_INET, socket.SOCK_STREAM)\n",
    "    print \"Socket connceted\"\n",
    "except:\n",
    "    print \"Dcoket connection failed\"\n",
    "    \n",
    "port = 99\n",
    "try:\n",
    "    host_ip = socket.gethostbyname('www.google.com')\n",
    "except:\n",
    "    # this means could not resulve the host\n",
    "    print \"there was a error resolving host\"\n",
    "\n",
    "\n"
   ]
  },
  {
   "cell_type": "code",
   "execution_count": 5,
   "metadata": {},
   "outputs": [
    {
     "name": "stdout",
     "output_type": "stream",
     "text": [
      "Cube : 1000Square : 100\n\nDone\n"
     ]
    }
   ],
   "source": [
    "import threading\n",
    "\n",
    "def printCube(num):\n",
    "    print \"Cube : {}\".format(num*num*num);\n",
    "def print_square(num):\n",
    "    print \"Square : {}\".format(num*num);\n",
    "    \n",
    "if __name__ == \"__main__\":\n",
    "    t1 = threading.Thread(target=print_square,args = (10,))\n",
    "    t2 = threading.Thread(target=printCube,args=(10,))\n",
    "    \n",
    "    t1.start()\n",
    "    t2.start()\n",
    "    \n",
    "    t1.join()\n",
    "    t2.join()\n",
    "    print(\"Done\")"
   ]
  },
  {
   "cell_type": "code",
   "execution_count": null,
   "metadata": {},
   "outputs": [],
   "source": [
    "import socket\n",
    "import threading\n",
    "\n",
    "print_lock = threading.Lock()\n",
    "\n",
    "def threaded(c):\n",
    "    while True:\n",
    "        data = c.recv(1024)\n",
    "        if not data:\n",
    "            \n",
    "\n",
    "\n",
    "\n",
    "\n",
    "\n",
    "\n",
    "\n",
    "\n",
    "\n",
    "\n",
    "\n",
    "\n",
    "\n",
    "\n",
    "\n",
    "\n",
    "\n",
    "\n",
    "\n",
    "\n",
    "\n",
    "\n",
    "\n",
    "\n",
    "\n",
    "\n",
    "\n"
   ]
  }
 ],
 "metadata": {
  "kernelspec": {
   "display_name": "Python 2",
   "language": "python",
   "name": "python2"
  },
  "language_info": {
   "codemirror_mode": {
    "name": "ipython",
    "version": 2
   },
   "file_extension": ".py",
   "mimetype": "text/x-python",
   "name": "python",
   "nbconvert_exporter": "python",
   "pygments_lexer": "ipython2",
   "version": "2.7.6"
  }
 },
 "nbformat": 4,
 "nbformat_minor": 0
}
